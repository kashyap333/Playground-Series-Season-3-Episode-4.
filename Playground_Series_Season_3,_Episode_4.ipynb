{
  "nbformat": 4,
  "nbformat_minor": 0,
  "metadata": {
    "colab": {
      "provenance": [],
      "authorship_tag": "ABX9TyPF0JvmLu9XFKulvbtPwIaE",
      "include_colab_link": true
    },
    "kernelspec": {
      "name": "python3",
      "display_name": "Python 3"
    },
    "language_info": {
      "name": "python"
    }
  },
  "cells": [
    {
      "cell_type": "markdown",
      "metadata": {
        "id": "view-in-github",
        "colab_type": "text"
      },
      "source": [
        "<a href=\"https://colab.research.google.com/github/kashyap333/Playground-Series-Season-3-Episode-4./blob/main/Playground_Series_Season_3%2C_Episode_4.ipynb\" target=\"_parent\"><img src=\"https://colab.research.google.com/assets/colab-badge.svg\" alt=\"Open In Colab\"/></a>"
      ]
    },
    {
      "cell_type": "code",
      "execution_count": 1,
      "metadata": {
        "id": "eXE63rJtmHSX",
        "colab": {
          "base_uri": "https://localhost:8080/"
        },
        "outputId": "92f69de6-df85-4a6c-89da-77733b381f3a"
      },
      "outputs": [
        {
          "output_type": "stream",
          "name": "stdout",
          "text": [
            "Looking in indexes: https://pypi.org/simple, https://us-python.pkg.dev/colab-wheels/public/simple/\n",
            "Requirement already satisfied: kaggle in /usr/local/lib/python3.8/dist-packages (1.5.12)\n",
            "Requirement already satisfied: python-dateutil in /usr/local/lib/python3.8/dist-packages (from kaggle) (2.8.2)\n",
            "Requirement already satisfied: tqdm in /usr/local/lib/python3.8/dist-packages (from kaggle) (4.64.1)\n",
            "Requirement already satisfied: requests in /usr/local/lib/python3.8/dist-packages (from kaggle) (2.25.1)\n",
            "Requirement already satisfied: certifi in /usr/local/lib/python3.8/dist-packages (from kaggle) (2022.12.7)\n",
            "Requirement already satisfied: python-slugify in /usr/local/lib/python3.8/dist-packages (from kaggle) (7.0.0)\n",
            "Requirement already satisfied: urllib3 in /usr/local/lib/python3.8/dist-packages (from kaggle) (1.24.3)\n",
            "Requirement already satisfied: six>=1.10 in /usr/local/lib/python3.8/dist-packages (from kaggle) (1.15.0)\n",
            "Requirement already satisfied: text-unidecode>=1.3 in /usr/local/lib/python3.8/dist-packages (from python-slugify->kaggle) (1.3)\n",
            "Requirement already satisfied: chardet<5,>=3.0.2 in /usr/local/lib/python3.8/dist-packages (from requests->kaggle) (4.0.0)\n",
            "Requirement already satisfied: idna<3,>=2.5 in /usr/local/lib/python3.8/dist-packages (from requests->kaggle) (2.10)\n"
          ]
        }
      ],
      "source": [
        "!pip install kaggle\n",
        "!mkdir ~/.kaggle\n",
        "!cp kaggle.json ~/.kaggle/kaggle.json\n",
        "!chmod 600 /root/.kaggle/kaggle.json"
      ]
    },
    {
      "cell_type": "code",
      "source": [
        "!kaggle competitions download -c playground-series-s3e4\n",
        "!unzip playground-series-s3e4"
      ],
      "metadata": {
        "id": "BOgNtZdwmqfc",
        "colab": {
          "base_uri": "https://localhost:8080/"
        },
        "outputId": "28e6e4f6-6db3-4cb8-a530-929e047073ef"
      },
      "execution_count": 2,
      "outputs": [
        {
          "output_type": "stream",
          "name": "stdout",
          "text": [
            "Downloading playground-series-s3e4.zip to /content\n",
            " 74% 62.0M/84.1M [00:00<00:00, 200MB/s]\n",
            "100% 84.1M/84.1M [00:00<00:00, 205MB/s]\n",
            "Archive:  playground-series-s3e4.zip\n",
            "  inflating: sample_submission.csv   \n",
            "  inflating: test.csv                \n",
            "  inflating: train.csv               \n"
          ]
        }
      ]
    },
    {
      "cell_type": "code",
      "source": [
        "import pandas as pd\n",
        "import numpy as np\n",
        "import matplotlib.pyplot as plt\n",
        "from sklearn.preprocessing import StandardScaler, RobustScaler\n",
        "from sklearn.pipeline import make_pipeline\n",
        "from sklearn.model_selection import train_test_split\n",
        "import seaborn as sns\n",
        "from imblearn.over_sampling import SMOTE"
      ],
      "metadata": {
        "id": "HRvOJiXgmxsk"
      },
      "execution_count": 3,
      "outputs": []
    },
    {
      "cell_type": "code",
      "source": [
        "train = pd.read_csv('train.csv')\n",
        "test = pd.read_csv('test.csv')"
      ],
      "metadata": {
        "id": "uAcBHkfWm2R9"
      },
      "execution_count": 4,
      "outputs": []
    },
    {
      "cell_type": "code",
      "source": [
        "train.head()"
      ],
      "metadata": {
        "colab": {
          "base_uri": "https://localhost:8080/",
          "height": 280
        },
        "id": "LKJDqswZm91O",
        "outputId": "766d2b7a-5106-4cc4-b3ff-156afffda9eb"
      },
      "execution_count": null,
      "outputs": [
        {
          "output_type": "execute_result",
          "data": {
            "text/plain": [
              "   id  Time        V1        V2        V3        V4        V5        V6  \\\n",
              "0   0   0.0  2.074329 -0.129425 -1.137418  0.412846 -0.192638 -1.210144   \n",
              "1   1   0.0  1.998827 -1.250891 -0.520969 -0.894539 -1.122528 -0.270866   \n",
              "2   2   0.0  0.091535  1.004517 -0.223445 -0.435249  0.667548 -0.988351   \n",
              "3   3   0.0  1.979649 -0.184949 -1.064206  0.120125 -0.215238 -0.648829   \n",
              "4   4   0.0  1.025898 -0.171827  1.203717  1.243900 -0.636572  1.099074   \n",
              "\n",
              "         V7        V8  ...       V21       V22       V23       V24       V25  \\\n",
              "0  0.110697 -0.263477  ... -0.334701 -0.887840  0.336701 -0.110835 -0.291459   \n",
              "1 -1.029289  0.050198  ...  0.054848 -0.038367  0.133518 -0.461928 -0.465491   \n",
              "2  0.948146 -0.084789  ... -0.326725 -0.803736  0.154495  0.951233 -0.506919   \n",
              "3 -0.087826 -0.035367  ... -0.095514 -0.079792  0.167701 -0.042939  0.000799   \n",
              "4 -0.938651  0.569239  ...  0.099157  0.608908  0.027901 -0.262813  0.257834   \n",
              "\n",
              "        V26       V27       V28  Amount  Class  \n",
              "0  0.207733 -0.076576 -0.059577    1.98      0  \n",
              "1 -0.464655 -0.009413 -0.038238   84.00      0  \n",
              "2  0.085046  0.224458  0.087356    2.69      0  \n",
              "3 -0.096148 -0.057780 -0.073839    1.00      0  \n",
              "4 -0.252829  0.108338  0.021051    1.00      0  \n",
              "\n",
              "[5 rows x 32 columns]"
            ],
            "text/html": [
              "\n",
              "  <div id=\"df-28426773-c77c-4590-b343-c52903371e97\">\n",
              "    <div class=\"colab-df-container\">\n",
              "      <div>\n",
              "<style scoped>\n",
              "    .dataframe tbody tr th:only-of-type {\n",
              "        vertical-align: middle;\n",
              "    }\n",
              "\n",
              "    .dataframe tbody tr th {\n",
              "        vertical-align: top;\n",
              "    }\n",
              "\n",
              "    .dataframe thead th {\n",
              "        text-align: right;\n",
              "    }\n",
              "</style>\n",
              "<table border=\"1\" class=\"dataframe\">\n",
              "  <thead>\n",
              "    <tr style=\"text-align: right;\">\n",
              "      <th></th>\n",
              "      <th>id</th>\n",
              "      <th>Time</th>\n",
              "      <th>V1</th>\n",
              "      <th>V2</th>\n",
              "      <th>V3</th>\n",
              "      <th>V4</th>\n",
              "      <th>V5</th>\n",
              "      <th>V6</th>\n",
              "      <th>V7</th>\n",
              "      <th>V8</th>\n",
              "      <th>...</th>\n",
              "      <th>V21</th>\n",
              "      <th>V22</th>\n",
              "      <th>V23</th>\n",
              "      <th>V24</th>\n",
              "      <th>V25</th>\n",
              "      <th>V26</th>\n",
              "      <th>V27</th>\n",
              "      <th>V28</th>\n",
              "      <th>Amount</th>\n",
              "      <th>Class</th>\n",
              "    </tr>\n",
              "  </thead>\n",
              "  <tbody>\n",
              "    <tr>\n",
              "      <th>0</th>\n",
              "      <td>0</td>\n",
              "      <td>0.0</td>\n",
              "      <td>2.074329</td>\n",
              "      <td>-0.129425</td>\n",
              "      <td>-1.137418</td>\n",
              "      <td>0.412846</td>\n",
              "      <td>-0.192638</td>\n",
              "      <td>-1.210144</td>\n",
              "      <td>0.110697</td>\n",
              "      <td>-0.263477</td>\n",
              "      <td>...</td>\n",
              "      <td>-0.334701</td>\n",
              "      <td>-0.887840</td>\n",
              "      <td>0.336701</td>\n",
              "      <td>-0.110835</td>\n",
              "      <td>-0.291459</td>\n",
              "      <td>0.207733</td>\n",
              "      <td>-0.076576</td>\n",
              "      <td>-0.059577</td>\n",
              "      <td>1.98</td>\n",
              "      <td>0</td>\n",
              "    </tr>\n",
              "    <tr>\n",
              "      <th>1</th>\n",
              "      <td>1</td>\n",
              "      <td>0.0</td>\n",
              "      <td>1.998827</td>\n",
              "      <td>-1.250891</td>\n",
              "      <td>-0.520969</td>\n",
              "      <td>-0.894539</td>\n",
              "      <td>-1.122528</td>\n",
              "      <td>-0.270866</td>\n",
              "      <td>-1.029289</td>\n",
              "      <td>0.050198</td>\n",
              "      <td>...</td>\n",
              "      <td>0.054848</td>\n",
              "      <td>-0.038367</td>\n",
              "      <td>0.133518</td>\n",
              "      <td>-0.461928</td>\n",
              "      <td>-0.465491</td>\n",
              "      <td>-0.464655</td>\n",
              "      <td>-0.009413</td>\n",
              "      <td>-0.038238</td>\n",
              "      <td>84.00</td>\n",
              "      <td>0</td>\n",
              "    </tr>\n",
              "    <tr>\n",
              "      <th>2</th>\n",
              "      <td>2</td>\n",
              "      <td>0.0</td>\n",
              "      <td>0.091535</td>\n",
              "      <td>1.004517</td>\n",
              "      <td>-0.223445</td>\n",
              "      <td>-0.435249</td>\n",
              "      <td>0.667548</td>\n",
              "      <td>-0.988351</td>\n",
              "      <td>0.948146</td>\n",
              "      <td>-0.084789</td>\n",
              "      <td>...</td>\n",
              "      <td>-0.326725</td>\n",
              "      <td>-0.803736</td>\n",
              "      <td>0.154495</td>\n",
              "      <td>0.951233</td>\n",
              "      <td>-0.506919</td>\n",
              "      <td>0.085046</td>\n",
              "      <td>0.224458</td>\n",
              "      <td>0.087356</td>\n",
              "      <td>2.69</td>\n",
              "      <td>0</td>\n",
              "    </tr>\n",
              "    <tr>\n",
              "      <th>3</th>\n",
              "      <td>3</td>\n",
              "      <td>0.0</td>\n",
              "      <td>1.979649</td>\n",
              "      <td>-0.184949</td>\n",
              "      <td>-1.064206</td>\n",
              "      <td>0.120125</td>\n",
              "      <td>-0.215238</td>\n",
              "      <td>-0.648829</td>\n",
              "      <td>-0.087826</td>\n",
              "      <td>-0.035367</td>\n",
              "      <td>...</td>\n",
              "      <td>-0.095514</td>\n",
              "      <td>-0.079792</td>\n",
              "      <td>0.167701</td>\n",
              "      <td>-0.042939</td>\n",
              "      <td>0.000799</td>\n",
              "      <td>-0.096148</td>\n",
              "      <td>-0.057780</td>\n",
              "      <td>-0.073839</td>\n",
              "      <td>1.00</td>\n",
              "      <td>0</td>\n",
              "    </tr>\n",
              "    <tr>\n",
              "      <th>4</th>\n",
              "      <td>4</td>\n",
              "      <td>0.0</td>\n",
              "      <td>1.025898</td>\n",
              "      <td>-0.171827</td>\n",
              "      <td>1.203717</td>\n",
              "      <td>1.243900</td>\n",
              "      <td>-0.636572</td>\n",
              "      <td>1.099074</td>\n",
              "      <td>-0.938651</td>\n",
              "      <td>0.569239</td>\n",
              "      <td>...</td>\n",
              "      <td>0.099157</td>\n",
              "      <td>0.608908</td>\n",
              "      <td>0.027901</td>\n",
              "      <td>-0.262813</td>\n",
              "      <td>0.257834</td>\n",
              "      <td>-0.252829</td>\n",
              "      <td>0.108338</td>\n",
              "      <td>0.021051</td>\n",
              "      <td>1.00</td>\n",
              "      <td>0</td>\n",
              "    </tr>\n",
              "  </tbody>\n",
              "</table>\n",
              "<p>5 rows × 32 columns</p>\n",
              "</div>\n",
              "      <button class=\"colab-df-convert\" onclick=\"convertToInteractive('df-28426773-c77c-4590-b343-c52903371e97')\"\n",
              "              title=\"Convert this dataframe to an interactive table.\"\n",
              "              style=\"display:none;\">\n",
              "        \n",
              "  <svg xmlns=\"http://www.w3.org/2000/svg\" height=\"24px\"viewBox=\"0 0 24 24\"\n",
              "       width=\"24px\">\n",
              "    <path d=\"M0 0h24v24H0V0z\" fill=\"none\"/>\n",
              "    <path d=\"M18.56 5.44l.94 2.06.94-2.06 2.06-.94-2.06-.94-.94-2.06-.94 2.06-2.06.94zm-11 1L8.5 8.5l.94-2.06 2.06-.94-2.06-.94L8.5 2.5l-.94 2.06-2.06.94zm10 10l.94 2.06.94-2.06 2.06-.94-2.06-.94-.94-2.06-.94 2.06-2.06.94z\"/><path d=\"M17.41 7.96l-1.37-1.37c-.4-.4-.92-.59-1.43-.59-.52 0-1.04.2-1.43.59L10.3 9.45l-7.72 7.72c-.78.78-.78 2.05 0 2.83L4 21.41c.39.39.9.59 1.41.59.51 0 1.02-.2 1.41-.59l7.78-7.78 2.81-2.81c.8-.78.8-2.07 0-2.86zM5.41 20L4 18.59l7.72-7.72 1.47 1.35L5.41 20z\"/>\n",
              "  </svg>\n",
              "      </button>\n",
              "      \n",
              "  <style>\n",
              "    .colab-df-container {\n",
              "      display:flex;\n",
              "      flex-wrap:wrap;\n",
              "      gap: 12px;\n",
              "    }\n",
              "\n",
              "    .colab-df-convert {\n",
              "      background-color: #E8F0FE;\n",
              "      border: none;\n",
              "      border-radius: 50%;\n",
              "      cursor: pointer;\n",
              "      display: none;\n",
              "      fill: #1967D2;\n",
              "      height: 32px;\n",
              "      padding: 0 0 0 0;\n",
              "      width: 32px;\n",
              "    }\n",
              "\n",
              "    .colab-df-convert:hover {\n",
              "      background-color: #E2EBFA;\n",
              "      box-shadow: 0px 1px 2px rgba(60, 64, 67, 0.3), 0px 1px 3px 1px rgba(60, 64, 67, 0.15);\n",
              "      fill: #174EA6;\n",
              "    }\n",
              "\n",
              "    [theme=dark] .colab-df-convert {\n",
              "      background-color: #3B4455;\n",
              "      fill: #D2E3FC;\n",
              "    }\n",
              "\n",
              "    [theme=dark] .colab-df-convert:hover {\n",
              "      background-color: #434B5C;\n",
              "      box-shadow: 0px 1px 3px 1px rgba(0, 0, 0, 0.15);\n",
              "      filter: drop-shadow(0px 1px 2px rgba(0, 0, 0, 0.3));\n",
              "      fill: #FFFFFF;\n",
              "    }\n",
              "  </style>\n",
              "\n",
              "      <script>\n",
              "        const buttonEl =\n",
              "          document.querySelector('#df-28426773-c77c-4590-b343-c52903371e97 button.colab-df-convert');\n",
              "        buttonEl.style.display =\n",
              "          google.colab.kernel.accessAllowed ? 'block' : 'none';\n",
              "\n",
              "        async function convertToInteractive(key) {\n",
              "          const element = document.querySelector('#df-28426773-c77c-4590-b343-c52903371e97');\n",
              "          const dataTable =\n",
              "            await google.colab.kernel.invokeFunction('convertToInteractive',\n",
              "                                                     [key], {});\n",
              "          if (!dataTable) return;\n",
              "\n",
              "          const docLinkHtml = 'Like what you see? Visit the ' +\n",
              "            '<a target=\"_blank\" href=https://colab.research.google.com/notebooks/data_table.ipynb>data table notebook</a>'\n",
              "            + ' to learn more about interactive tables.';\n",
              "          element.innerHTML = '';\n",
              "          dataTable['output_type'] = 'display_data';\n",
              "          await google.colab.output.renderOutput(dataTable, element);\n",
              "          const docLink = document.createElement('div');\n",
              "          docLink.innerHTML = docLinkHtml;\n",
              "          element.appendChild(docLink);\n",
              "        }\n",
              "      </script>\n",
              "    </div>\n",
              "  </div>\n",
              "  "
            ]
          },
          "metadata": {},
          "execution_count": 150
        }
      ]
    },
    {
      "cell_type": "code",
      "source": [
        "train.describe()"
      ],
      "metadata": {
        "colab": {
          "base_uri": "https://localhost:8080/",
          "height": 394
        },
        "id": "fEu4MTZIm_vy",
        "outputId": "203fe758-6918-49f4-b4a5-e7e636a4ede8"
      },
      "execution_count": null,
      "outputs": [
        {
          "output_type": "execute_result",
          "data": {
            "text/plain": [
              "                  id           Time             V1             V2  \\\n",
              "count  219129.000000  219129.000000  219129.000000  219129.000000   \n",
              "mean   109564.000000   62377.415376       0.096008       0.048345   \n",
              "std     63257.237906   25620.348569       1.395425       1.159805   \n",
              "min         0.000000       0.000000     -29.807725     -44.247914   \n",
              "25%     54782.000000   47933.000000      -0.846135      -0.573728   \n",
              "50%    109564.000000   63189.000000       0.385913       0.046937   \n",
              "75%    164346.000000   77519.000000       1.190661       0.814145   \n",
              "max    219128.000000  120580.000000       2.430494      16.068473   \n",
              "\n",
              "                  V3             V4             V5             V6  \\\n",
              "count  219129.000000  219129.000000  219129.000000  219129.000000   \n",
              "mean        0.592102       0.069273      -0.161555       0.133688   \n",
              "std         1.132884       1.253125       1.069530       1.202411   \n",
              "min       -19.722872      -5.263650     -37.591259     -25.659750   \n",
              "25%        -0.027154      -0.769256      -0.847346      -0.631835   \n",
              "50%         0.735895       0.064856      -0.229929      -0.087778   \n",
              "75%         1.306110       0.919353       0.356856       0.482388   \n",
              "max         6.145578      12.547997      34.581260      16.233967   \n",
              "\n",
              "                  V7             V8  ...            V21            V22  \\\n",
              "count  219129.000000  219129.000000  ...  219129.000000  219129.000000   \n",
              "mean       -0.128224       0.149534  ...      -0.031064      -0.050852   \n",
              "std         0.817207       0.716212  ...       0.422777       0.597812   \n",
              "min       -31.179799     -28.903442  ...     -14.689621      -8.748979   \n",
              "25%        -0.646730      -0.095948  ...      -0.190418      -0.473099   \n",
              "50%        -0.098970       0.111219  ...      -0.042858      -0.032856   \n",
              "75%         0.385567       0.390976  ...       0.109187       0.354910   \n",
              "max        39.824099      18.270586  ...      22.062945       6.163541   \n",
              "\n",
              "                 V23            V24            V25            V26  \\\n",
              "count  219129.000000  219129.000000  219129.000000  219129.000000   \n",
              "mean       -0.050531      -0.002992       0.124005       0.009881   \n",
              "std         0.318175       0.593100       0.406741       0.473867   \n",
              "min       -11.958588      -2.836285      -3.958591      -1.858672   \n",
              "25%        -0.174478      -0.332540      -0.126080      -0.318330   \n",
              "50%        -0.063307       0.038708       0.145934      -0.086388   \n",
              "75%         0.060221       0.394566       0.402926       0.253869   \n",
              "max        12.734391       4.572739       3.111624       3.402344   \n",
              "\n",
              "                 V27            V28         Amount          Class  \n",
              "count  219129.000000  219129.000000  219129.000000  219129.000000  \n",
              "mean        0.014034       0.017313      66.359803       0.002140  \n",
              "std         0.233355       0.164859     150.795017       0.046214  \n",
              "min        -9.234767      -4.551680       0.000000       0.000000  \n",
              "25%        -0.050983      -0.009512       5.990000       0.000000  \n",
              "50%         0.015905       0.022163      21.900000       0.000000  \n",
              "75%         0.076814       0.066987      68.930000       0.000000  \n",
              "max        13.123618      23.263746    7475.000000       1.000000  \n",
              "\n",
              "[8 rows x 32 columns]"
            ],
            "text/html": [
              "\n",
              "  <div id=\"df-f78902b0-5034-4613-b2bb-866cf6bdac55\">\n",
              "    <div class=\"colab-df-container\">\n",
              "      <div>\n",
              "<style scoped>\n",
              "    .dataframe tbody tr th:only-of-type {\n",
              "        vertical-align: middle;\n",
              "    }\n",
              "\n",
              "    .dataframe tbody tr th {\n",
              "        vertical-align: top;\n",
              "    }\n",
              "\n",
              "    .dataframe thead th {\n",
              "        text-align: right;\n",
              "    }\n",
              "</style>\n",
              "<table border=\"1\" class=\"dataframe\">\n",
              "  <thead>\n",
              "    <tr style=\"text-align: right;\">\n",
              "      <th></th>\n",
              "      <th>id</th>\n",
              "      <th>Time</th>\n",
              "      <th>V1</th>\n",
              "      <th>V2</th>\n",
              "      <th>V3</th>\n",
              "      <th>V4</th>\n",
              "      <th>V5</th>\n",
              "      <th>V6</th>\n",
              "      <th>V7</th>\n",
              "      <th>V8</th>\n",
              "      <th>...</th>\n",
              "      <th>V21</th>\n",
              "      <th>V22</th>\n",
              "      <th>V23</th>\n",
              "      <th>V24</th>\n",
              "      <th>V25</th>\n",
              "      <th>V26</th>\n",
              "      <th>V27</th>\n",
              "      <th>V28</th>\n",
              "      <th>Amount</th>\n",
              "      <th>Class</th>\n",
              "    </tr>\n",
              "  </thead>\n",
              "  <tbody>\n",
              "    <tr>\n",
              "      <th>count</th>\n",
              "      <td>219129.000000</td>\n",
              "      <td>219129.000000</td>\n",
              "      <td>219129.000000</td>\n",
              "      <td>219129.000000</td>\n",
              "      <td>219129.000000</td>\n",
              "      <td>219129.000000</td>\n",
              "      <td>219129.000000</td>\n",
              "      <td>219129.000000</td>\n",
              "      <td>219129.000000</td>\n",
              "      <td>219129.000000</td>\n",
              "      <td>...</td>\n",
              "      <td>219129.000000</td>\n",
              "      <td>219129.000000</td>\n",
              "      <td>219129.000000</td>\n",
              "      <td>219129.000000</td>\n",
              "      <td>219129.000000</td>\n",
              "      <td>219129.000000</td>\n",
              "      <td>219129.000000</td>\n",
              "      <td>219129.000000</td>\n",
              "      <td>219129.000000</td>\n",
              "      <td>219129.000000</td>\n",
              "    </tr>\n",
              "    <tr>\n",
              "      <th>mean</th>\n",
              "      <td>109564.000000</td>\n",
              "      <td>62377.415376</td>\n",
              "      <td>0.096008</td>\n",
              "      <td>0.048345</td>\n",
              "      <td>0.592102</td>\n",
              "      <td>0.069273</td>\n",
              "      <td>-0.161555</td>\n",
              "      <td>0.133688</td>\n",
              "      <td>-0.128224</td>\n",
              "      <td>0.149534</td>\n",
              "      <td>...</td>\n",
              "      <td>-0.031064</td>\n",
              "      <td>-0.050852</td>\n",
              "      <td>-0.050531</td>\n",
              "      <td>-0.002992</td>\n",
              "      <td>0.124005</td>\n",
              "      <td>0.009881</td>\n",
              "      <td>0.014034</td>\n",
              "      <td>0.017313</td>\n",
              "      <td>66.359803</td>\n",
              "      <td>0.002140</td>\n",
              "    </tr>\n",
              "    <tr>\n",
              "      <th>std</th>\n",
              "      <td>63257.237906</td>\n",
              "      <td>25620.348569</td>\n",
              "      <td>1.395425</td>\n",
              "      <td>1.159805</td>\n",
              "      <td>1.132884</td>\n",
              "      <td>1.253125</td>\n",
              "      <td>1.069530</td>\n",
              "      <td>1.202411</td>\n",
              "      <td>0.817207</td>\n",
              "      <td>0.716212</td>\n",
              "      <td>...</td>\n",
              "      <td>0.422777</td>\n",
              "      <td>0.597812</td>\n",
              "      <td>0.318175</td>\n",
              "      <td>0.593100</td>\n",
              "      <td>0.406741</td>\n",
              "      <td>0.473867</td>\n",
              "      <td>0.233355</td>\n",
              "      <td>0.164859</td>\n",
              "      <td>150.795017</td>\n",
              "      <td>0.046214</td>\n",
              "    </tr>\n",
              "    <tr>\n",
              "      <th>min</th>\n",
              "      <td>0.000000</td>\n",
              "      <td>0.000000</td>\n",
              "      <td>-29.807725</td>\n",
              "      <td>-44.247914</td>\n",
              "      <td>-19.722872</td>\n",
              "      <td>-5.263650</td>\n",
              "      <td>-37.591259</td>\n",
              "      <td>-25.659750</td>\n",
              "      <td>-31.179799</td>\n",
              "      <td>-28.903442</td>\n",
              "      <td>...</td>\n",
              "      <td>-14.689621</td>\n",
              "      <td>-8.748979</td>\n",
              "      <td>-11.958588</td>\n",
              "      <td>-2.836285</td>\n",
              "      <td>-3.958591</td>\n",
              "      <td>-1.858672</td>\n",
              "      <td>-9.234767</td>\n",
              "      <td>-4.551680</td>\n",
              "      <td>0.000000</td>\n",
              "      <td>0.000000</td>\n",
              "    </tr>\n",
              "    <tr>\n",
              "      <th>25%</th>\n",
              "      <td>54782.000000</td>\n",
              "      <td>47933.000000</td>\n",
              "      <td>-0.846135</td>\n",
              "      <td>-0.573728</td>\n",
              "      <td>-0.027154</td>\n",
              "      <td>-0.769256</td>\n",
              "      <td>-0.847346</td>\n",
              "      <td>-0.631835</td>\n",
              "      <td>-0.646730</td>\n",
              "      <td>-0.095948</td>\n",
              "      <td>...</td>\n",
              "      <td>-0.190418</td>\n",
              "      <td>-0.473099</td>\n",
              "      <td>-0.174478</td>\n",
              "      <td>-0.332540</td>\n",
              "      <td>-0.126080</td>\n",
              "      <td>-0.318330</td>\n",
              "      <td>-0.050983</td>\n",
              "      <td>-0.009512</td>\n",
              "      <td>5.990000</td>\n",
              "      <td>0.000000</td>\n",
              "    </tr>\n",
              "    <tr>\n",
              "      <th>50%</th>\n",
              "      <td>109564.000000</td>\n",
              "      <td>63189.000000</td>\n",
              "      <td>0.385913</td>\n",
              "      <td>0.046937</td>\n",
              "      <td>0.735895</td>\n",
              "      <td>0.064856</td>\n",
              "      <td>-0.229929</td>\n",
              "      <td>-0.087778</td>\n",
              "      <td>-0.098970</td>\n",
              "      <td>0.111219</td>\n",
              "      <td>...</td>\n",
              "      <td>-0.042858</td>\n",
              "      <td>-0.032856</td>\n",
              "      <td>-0.063307</td>\n",
              "      <td>0.038708</td>\n",
              "      <td>0.145934</td>\n",
              "      <td>-0.086388</td>\n",
              "      <td>0.015905</td>\n",
              "      <td>0.022163</td>\n",
              "      <td>21.900000</td>\n",
              "      <td>0.000000</td>\n",
              "    </tr>\n",
              "    <tr>\n",
              "      <th>75%</th>\n",
              "      <td>164346.000000</td>\n",
              "      <td>77519.000000</td>\n",
              "      <td>1.190661</td>\n",
              "      <td>0.814145</td>\n",
              "      <td>1.306110</td>\n",
              "      <td>0.919353</td>\n",
              "      <td>0.356856</td>\n",
              "      <td>0.482388</td>\n",
              "      <td>0.385567</td>\n",
              "      <td>0.390976</td>\n",
              "      <td>...</td>\n",
              "      <td>0.109187</td>\n",
              "      <td>0.354910</td>\n",
              "      <td>0.060221</td>\n",
              "      <td>0.394566</td>\n",
              "      <td>0.402926</td>\n",
              "      <td>0.253869</td>\n",
              "      <td>0.076814</td>\n",
              "      <td>0.066987</td>\n",
              "      <td>68.930000</td>\n",
              "      <td>0.000000</td>\n",
              "    </tr>\n",
              "    <tr>\n",
              "      <th>max</th>\n",
              "      <td>219128.000000</td>\n",
              "      <td>120580.000000</td>\n",
              "      <td>2.430494</td>\n",
              "      <td>16.068473</td>\n",
              "      <td>6.145578</td>\n",
              "      <td>12.547997</td>\n",
              "      <td>34.581260</td>\n",
              "      <td>16.233967</td>\n",
              "      <td>39.824099</td>\n",
              "      <td>18.270586</td>\n",
              "      <td>...</td>\n",
              "      <td>22.062945</td>\n",
              "      <td>6.163541</td>\n",
              "      <td>12.734391</td>\n",
              "      <td>4.572739</td>\n",
              "      <td>3.111624</td>\n",
              "      <td>3.402344</td>\n",
              "      <td>13.123618</td>\n",
              "      <td>23.263746</td>\n",
              "      <td>7475.000000</td>\n",
              "      <td>1.000000</td>\n",
              "    </tr>\n",
              "  </tbody>\n",
              "</table>\n",
              "<p>8 rows × 32 columns</p>\n",
              "</div>\n",
              "      <button class=\"colab-df-convert\" onclick=\"convertToInteractive('df-f78902b0-5034-4613-b2bb-866cf6bdac55')\"\n",
              "              title=\"Convert this dataframe to an interactive table.\"\n",
              "              style=\"display:none;\">\n",
              "        \n",
              "  <svg xmlns=\"http://www.w3.org/2000/svg\" height=\"24px\"viewBox=\"0 0 24 24\"\n",
              "       width=\"24px\">\n",
              "    <path d=\"M0 0h24v24H0V0z\" fill=\"none\"/>\n",
              "    <path d=\"M18.56 5.44l.94 2.06.94-2.06 2.06-.94-2.06-.94-.94-2.06-.94 2.06-2.06.94zm-11 1L8.5 8.5l.94-2.06 2.06-.94-2.06-.94L8.5 2.5l-.94 2.06-2.06.94zm10 10l.94 2.06.94-2.06 2.06-.94-2.06-.94-.94-2.06-.94 2.06-2.06.94z\"/><path d=\"M17.41 7.96l-1.37-1.37c-.4-.4-.92-.59-1.43-.59-.52 0-1.04.2-1.43.59L10.3 9.45l-7.72 7.72c-.78.78-.78 2.05 0 2.83L4 21.41c.39.39.9.59 1.41.59.51 0 1.02-.2 1.41-.59l7.78-7.78 2.81-2.81c.8-.78.8-2.07 0-2.86zM5.41 20L4 18.59l7.72-7.72 1.47 1.35L5.41 20z\"/>\n",
              "  </svg>\n",
              "      </button>\n",
              "      \n",
              "  <style>\n",
              "    .colab-df-container {\n",
              "      display:flex;\n",
              "      flex-wrap:wrap;\n",
              "      gap: 12px;\n",
              "    }\n",
              "\n",
              "    .colab-df-convert {\n",
              "      background-color: #E8F0FE;\n",
              "      border: none;\n",
              "      border-radius: 50%;\n",
              "      cursor: pointer;\n",
              "      display: none;\n",
              "      fill: #1967D2;\n",
              "      height: 32px;\n",
              "      padding: 0 0 0 0;\n",
              "      width: 32px;\n",
              "    }\n",
              "\n",
              "    .colab-df-convert:hover {\n",
              "      background-color: #E2EBFA;\n",
              "      box-shadow: 0px 1px 2px rgba(60, 64, 67, 0.3), 0px 1px 3px 1px rgba(60, 64, 67, 0.15);\n",
              "      fill: #174EA6;\n",
              "    }\n",
              "\n",
              "    [theme=dark] .colab-df-convert {\n",
              "      background-color: #3B4455;\n",
              "      fill: #D2E3FC;\n",
              "    }\n",
              "\n",
              "    [theme=dark] .colab-df-convert:hover {\n",
              "      background-color: #434B5C;\n",
              "      box-shadow: 0px 1px 3px 1px rgba(0, 0, 0, 0.15);\n",
              "      filter: drop-shadow(0px 1px 2px rgba(0, 0, 0, 0.3));\n",
              "      fill: #FFFFFF;\n",
              "    }\n",
              "  </style>\n",
              "\n",
              "      <script>\n",
              "        const buttonEl =\n",
              "          document.querySelector('#df-f78902b0-5034-4613-b2bb-866cf6bdac55 button.colab-df-convert');\n",
              "        buttonEl.style.display =\n",
              "          google.colab.kernel.accessAllowed ? 'block' : 'none';\n",
              "\n",
              "        async function convertToInteractive(key) {\n",
              "          const element = document.querySelector('#df-f78902b0-5034-4613-b2bb-866cf6bdac55');\n",
              "          const dataTable =\n",
              "            await google.colab.kernel.invokeFunction('convertToInteractive',\n",
              "                                                     [key], {});\n",
              "          if (!dataTable) return;\n",
              "\n",
              "          const docLinkHtml = 'Like what you see? Visit the ' +\n",
              "            '<a target=\"_blank\" href=https://colab.research.google.com/notebooks/data_table.ipynb>data table notebook</a>'\n",
              "            + ' to learn more about interactive tables.';\n",
              "          element.innerHTML = '';\n",
              "          dataTable['output_type'] = 'display_data';\n",
              "          await google.colab.output.renderOutput(dataTable, element);\n",
              "          const docLink = document.createElement('div');\n",
              "          docLink.innerHTML = docLinkHtml;\n",
              "          element.appendChild(docLink);\n",
              "        }\n",
              "      </script>\n",
              "    </div>\n",
              "  </div>\n",
              "  "
            ]
          },
          "metadata": {},
          "execution_count": 151
        }
      ]
    },
    {
      "cell_type": "code",
      "source": [
        "train.isna().values.any()"
      ],
      "metadata": {
        "colab": {
          "base_uri": "https://localhost:8080/"
        },
        "id": "tRi7tGbFAW_6",
        "outputId": "24de383f-c4f6-40d8-87be-35aec1bacdeb"
      },
      "execution_count": null,
      "outputs": [
        {
          "output_type": "execute_result",
          "data": {
            "text/plain": [
              "False"
            ]
          },
          "metadata": {},
          "execution_count": 152
        }
      ]
    },
    {
      "cell_type": "code",
      "source": [
        "train.Class.unique()"
      ],
      "metadata": {
        "colab": {
          "base_uri": "https://localhost:8080/"
        },
        "id": "BuLHqapanI_J",
        "outputId": "8ea82a64-3e11-4abc-e6b4-97df1e890a8f"
      },
      "execution_count": null,
      "outputs": [
        {
          "output_type": "execute_result",
          "data": {
            "text/plain": [
              "array([0, 1])"
            ]
          },
          "metadata": {},
          "execution_count": 154
        }
      ]
    },
    {
      "cell_type": "code",
      "source": [
        "sns.countplot(x='Class', data=train)"
      ],
      "metadata": {
        "colab": {
          "base_uri": "https://localhost:8080/",
          "height": 296
        },
        "id": "3kYKAvi5_Epp",
        "outputId": "7fd55ddc-e57e-4230-9dc8-bcfca940a196"
      },
      "execution_count": null,
      "outputs": [
        {
          "output_type": "execute_result",
          "data": {
            "text/plain": [
              "<matplotlib.axes._subplots.AxesSubplot at 0x7f5570760430>"
            ]
          },
          "metadata": {},
          "execution_count": 155
        },
        {
          "output_type": "display_data",
          "data": {
            "text/plain": [
              "<Figure size 432x288 with 1 Axes>"
            ],
            "image/png": "[encoded data removed]"
          },
          "metadata": {
            "needs_background": "light"
          }
        }
      ]
    },
    {
      "cell_type": "code",
      "source": [
        "plt.figure(figsize=(15,30))\n",
        "for i in enumerate(train.drop(['id', 'Time', 'Class'], axis=1).columns):\n",
        "  plt.subplot(6, 5, i[0]+1)\n",
        "  sns.histplot(data=train, x=i[1], hue='Class')"
      ],
      "metadata": {
        "colab": {
          "base_uri": "https://localhost:8080/",
          "height": 1000
        },
        "id": "khXLhvY_B6wp",
        "outputId": "539a0e21-7e1b-4d76-97aa-c8f5403da5d5"
      },
      "execution_count": 5,
      "outputs": [
        {
          "output_type": "display_data",
          "data": {
            "text/plain": [
              "<Figure size 1080x2160 with 29 Axes>"
            ],
            "image/png": "[encoded data removed]"
          },
          "metadata": {
            "needs_background": "light"
          }
        }
      ]
    },
    {
      "cell_type": "code",
      "source": [
        "train.drop(['id', 'Time'], axis=1, inplace = True)\n",
        "test.drop(['id', 'Time'], axis=1, inplace = True)"
      ],
      "metadata": {
        "id": "bmaMVkKG9GYZ"
      },
      "execution_count": 6,
      "outputs": []
    },
    {
      "cell_type": "code",
      "source": [
        "X, y = train_test_split(train, test_size=0.2, random_state=42,  stratify=train.Class)"
      ],
      "metadata": {
        "id": "fMgfrJ5a-f--"
      },
      "execution_count": 7,
      "outputs": []
    },
    {
      "cell_type": "code",
      "source": [
        "X.Class.value_counts(), y.Class.value_counts()"
      ],
      "metadata": {
        "colab": {
          "base_uri": "https://localhost:8080/"
        },
        "id": "uawr1MHR92j7",
        "outputId": "ef082afe-584a-4b16-a597-379944fc2e08"
      },
      "execution_count": null,
      "outputs": [
        {
          "output_type": "execute_result",
          "data": {
            "text/plain": [
              "(0    174928\n",
              " 1       375\n",
              " Name: Class, dtype: int64, 0    43732\n",
              " 1       94\n",
              " Name: Class, dtype: int64)"
            ]
          },
          "metadata": {},
          "execution_count": 159
        }
      ]
    },
    {
      "cell_type": "code",
      "source": [
        "SL = StandardScaler()\n",
        "RS = RobustScaler()"
      ],
      "metadata": {
        "id": "_djX4TyX625b"
      },
      "execution_count": 13,
      "outputs": []
    },
    {
      "cell_type": "code",
      "source": [
        "X_train = X.drop('Class', axis=1)\n",
        "X_test = y.drop('Class', axis=1)\n",
        "y_train = X['Class']\n",
        "y_test = y['Class']\n",
        "\n",
        "X_train[X_train.columns] = RS.fit_transform(X_train[X_train.columns])\n",
        "X_test[X_test.columns] = RS.fit_transform(X_test[X_test.columns])"
      ],
      "metadata": {
        "id": "If916ePd9tKi"
      },
      "execution_count": null,
      "outputs": []
    },
    {
      "cell_type": "code",
      "source": [
        "'''sm = SMOTE(random_state=42)\n",
        "X_train, y_train = sm.fit_resample(X_train, y_train)\n",
        "X_test, y_test = sm.fit_resample(X_test, y_test)\n",
        "sns.countplot('Class', data=pd.DataFrame(y_train))'''"
      ],
      "metadata": {
        "id": "pRPee3xbs8zA"
      },
      "execution_count": null,
      "outputs": []
    },
    {
      "cell_type": "code",
      "source": [
        "from xgboost import XGBClassifier\n",
        "from sklearn.metrics import confusion_matrix, roc_auc_score\n",
        "from sklearn.model_selection import cross_val_score, KFold"
      ],
      "metadata": {
        "id": "foJA6yEUAy00"
      },
      "execution_count": 12,
      "outputs": []
    },
    {
      "cell_type": "code",
      "source": [
        "xgb_params = {'n_estimators'     : 2000,\n",
        "              'min_child_weight' : 96,\n",
        "              'max_depth'        : 7,\n",
        "              'learning_rate'    : 0.18,\n",
        "              'subsample'        : 0.95,\n",
        "              'colsample_bytree' : 0.95,\n",
        "              'reg_lambda'       : 1.50,\n",
        "              'reg_alpha'        : 1.50,\n",
        "              'gamma'            : 1.50,\n",
        "              'max_bin'          : 512,\n",
        "              'random_state'     : 42,\n",
        "              'objective'        : 'binary:logistic',\n",
        "              'tree_method'      : 'hist',\n",
        "              'eval_metric'      : 'rmse',\n",
        "             }"
      ],
      "metadata": {
        "id": "bNctez8yTDuP"
      },
      "execution_count": null,
      "outputs": []
    },
    {
      "cell_type": "code",
      "source": [
        "xgbc = XGBClassifier(**xgb_params)\n",
        "xgbc.fit(X_train, y_train)\n",
        "kfold = KFold(n_splits=10, shuffle=True)\n",
        "kf_cv_scores = cross_val_score(xgbc, X_train, y_train, cv=kfold)\n",
        "print(\"K-fold CV average score: %.2f\" % kf_cv_scores.mean())"
      ],
      "metadata": {
        "colab": {
          "base_uri": "https://localhost:8080/"
        },
        "id": "HcmHZzppOKiN",
        "outputId": "6f658c67-2c5a-4200-bbe3-ebd72a98bc48"
      },
      "execution_count": null,
      "outputs": [
        {
          "output_type": "stream",
          "name": "stdout",
          "text": [
            "K-fold CV average score: 1.00\n"
          ]
        }
      ]
    },
    {
      "cell_type": "code",
      "source": [
        "kfold = KFold(n_splits=10, shuffle=True)\n",
        "kf_cv_scores = cross_val_score(xgbc, X_test, y_test, cv=kfold)\n",
        "print(\"K-fold CV average score: %.2f\" % kf_cv_scores.mean())"
      ],
      "metadata": {
        "colab": {
          "base_uri": "https://localhost:8080/"
        },
        "id": "Gq-KKvtpO8W5",
        "outputId": "7015a31a-11d6-43aa-b2c4-1abb11f4c703"
      },
      "execution_count": null,
      "outputs": [
        {
          "output_type": "stream",
          "name": "stdout",
          "text": [
            "K-fold CV average score: 1.00\n"
          ]
        }
      ]
    },
    {
      "cell_type": "code",
      "source": [
        "#test.drop(['id', 'Time'], axis=1, inplace = True)\n",
        "test_pred = xgbc.predict_proba(test)"
      ],
      "metadata": {
        "id": "0HblY9c5Q8xU"
      },
      "execution_count": null,
      "outputs": []
    },
    {
      "cell_type": "code",
      "source": [
        "test = pd.read_csv('test.csv')\n",
        "submission = pd.DataFrame(test['id'])\n",
        "submission['Class'] = test_pred[:, 1]\n",
        "submission.to_csv('submission.csv', index=False)"
      ],
      "metadata": {
        "id": "Z96qMs-1Qejg"
      },
      "execution_count": null,
      "outputs": []
    },
    {
      "cell_type": "code",
      "source": [
        "!kaggle competitions submit -c playground-series-s3e4 -f submission.csv -m '1'"
      ],
      "metadata": {
        "colab": {
          "base_uri": "https://localhost:8080/"
        },
        "id": "bm3B8IiWSCsC",
        "outputId": "5579ee23-8bd1-488d-d657-1bd56291254c"
      },
      "execution_count": null,
      "outputs": [
        {
          "output_type": "stream",
          "name": "stdout",
          "text": [
            "100% 2.81M/2.81M [00:00<00:00, 4.75MB/s]\n",
            "Successfully submitted to Playground Series Season 3, Episode 4"
          ]
        }
      ]
    },
    {
      "cell_type": "markdown",
      "source": [
        "####LGBMC Classifier"
      ],
      "metadata": {
        "id": "YFm1Bu1qZokk"
      }
    },
    {
      "cell_type": "code",
      "source": [
        "from sklearn.model_selection import StratifiedKFold, RandomizedSearchCV\n",
        "from lightgbm import LGBMClassifier"
      ],
      "metadata": {
        "id": "x4sTHZXzQYy3"
      },
      "execution_count": 8,
      "outputs": []
    },
    {
      "cell_type": "code",
      "source": [
        "train = pd.read_csv('train.csv')\n",
        "test = pd.read_csv('test.csv')"
      ],
      "metadata": {
        "id": "Mne-HeZnRFpI"
      },
      "execution_count": 27,
      "outputs": []
    },
    {
      "cell_type": "code",
      "source": [
        "X = train.drop(['id', 'Time', 'Class'], axis=1)\n",
        "y = train.Class"
      ],
      "metadata": {
        "id": "meQ7ezeQRev0"
      },
      "execution_count": 28,
      "outputs": []
    },
    {
      "cell_type": "code",
      "source": [
        "X = RS.fit_transform(X)\n",
        "x_test = RS.fit_transform(test.drop(['id', 'Time'], axis=1))"
      ],
      "metadata": {
        "id": "xgSNldY-Rw9l"
      },
      "execution_count": 29,
      "outputs": []
    },
    {
      "cell_type": "code",
      "source": [
        "SKF = StratifiedKFold(n_splits=5, shuffle=True, random_state=42)"
      ],
      "metadata": {
        "id": "dDeEpQ4OSiI3"
      },
      "execution_count": 30,
      "outputs": []
    },
    {
      "cell_type": "code",
      "source": [
        "def score(clf, x, y):\n",
        "    return roc_auc_score(y, clf.predict_proba(x)[:,1])"
      ],
      "metadata": {
        "id": "hb8OXewFT7Ry"
      },
      "execution_count": 31,
      "outputs": []
    },
    {
      "cell_type": "code",
      "source": [
        "LGBM_pred = []\n",
        "LGBM_val_pred = []\n",
        "scores = []\n",
        "\n",
        "for train_i, test_i in SKF.split(X, y):\n",
        "\n",
        "  X_train, X_test = X[train_i], X[test_i]\n",
        "  y_train, y_test = y[train_i], y[test_i]\n",
        "\n",
        "  params={'objective': 'binary',\n",
        "             'metric': 'auc',\n",
        "             'lambda_l1': 1.0050418664783436e-08, \n",
        "             'lambda_l2': 9.938606206413121,\n",
        "             'scale_pos_weight': 1,\n",
        "             'num_leaves': 44,\n",
        "             'feature_fraction': 0.8247273276668773,\n",
        "             'bagging_fraction': 0.5842711778104962,\n",
        "             'bagging_freq': 6,\n",
        "             'min_data_in_leaf': 134,\n",
        "             'min_child_samples': 70,\n",
        "             'max_depth': 8,\n",
        "             'num_iterations': 300,\n",
        "             'learning_rate':0.05}\n",
        "\n",
        "  model = LGBMClassifier(**params)\n",
        "  model.fit(X_train, y_train, eval_set = [(X_test,y_test)], early_stopping_rounds=50, verbose=500)\n",
        "  LGBM_pred.append(model.predict_proba(X_test)[:,1])\n",
        "  LGBM_val_pred.append(model.predict_proba(X)[:,1])\n",
        "  print(str(score(model,X_train, y_train)) + \"    \" + str(score(model,X_test, y_test)))\n",
        "  scores.append(score(model,X_test, y_test))"
      ],
      "metadata": {
        "colab": {
          "base_uri": "https://localhost:8080/"
        },
        "id": "Xe9Tf2s7SwBy",
        "outputId": "eb3664f3-584c-4f80-f2bb-e0f8ea5b7f97"
      },
      "execution_count": 17,
      "outputs": [
        {
          "output_type": "stream",
          "name": "stderr",
          "text": [
            "/usr/local/lib/python3.8/dist-packages/lightgbm/engine.py:118: UserWarning: Found `num_iterations` in params. Will use it instead of argument\n",
            "  warnings.warn(\"Found `{}` in params. Will use it instead of argument\".format(alias))\n"
          ]
        },
        {
          "output_type": "stream",
          "name": "stdout",
          "text": [
            "Training until validation scores don't improve for 50 rounds.\n",
            "Early stopping, best iteration is:\n",
            "[90]\tvalid_0's auc: 0.817024\n",
            "0.9663215113265647    0.8170242930343621\n"
          ]
        },
        {
          "output_type": "stream",
          "name": "stderr",
          "text": [
            "/usr/local/lib/python3.8/dist-packages/lightgbm/engine.py:118: UserWarning: Found `num_iterations` in params. Will use it instead of argument\n",
            "  warnings.warn(\"Found `{}` in params. Will use it instead of argument\".format(alias))\n"
          ]
        },
        {
          "output_type": "stream",
          "name": "stdout",
          "text": [
            "Training until validation scores don't improve for 50 rounds.\n",
            "Early stopping, best iteration is:\n",
            "[73]\tvalid_0's auc: 0.858938\n",
            "0.9534995045580656    0.8589381941457739\n"
          ]
        },
        {
          "output_type": "stream",
          "name": "stderr",
          "text": [
            "/usr/local/lib/python3.8/dist-packages/lightgbm/engine.py:118: UserWarning: Found `num_iterations` in params. Will use it instead of argument\n",
            "  warnings.warn(\"Found `{}` in params. Will use it instead of argument\".format(alias))\n"
          ]
        },
        {
          "output_type": "stream",
          "name": "stdout",
          "text": [
            "Training until validation scores don't improve for 50 rounds.\n",
            "Early stopping, best iteration is:\n",
            "[161]\tvalid_0's auc: 0.807206\n",
            "0.9861641970791791    0.8072055420734804\n"
          ]
        },
        {
          "output_type": "stream",
          "name": "stderr",
          "text": [
            "/usr/local/lib/python3.8/dist-packages/lightgbm/engine.py:118: UserWarning: Found `num_iterations` in params. Will use it instead of argument\n",
            "  warnings.warn(\"Found `{}` in params. Will use it instead of argument\".format(alias))\n"
          ]
        },
        {
          "output_type": "stream",
          "name": "stdout",
          "text": [
            "Training until validation scores don't improve for 50 rounds.\n",
            "Early stopping, best iteration is:\n",
            "[88]\tvalid_0's auc: 0.825416\n",
            "0.9699688710021647    0.8254155873979034\n"
          ]
        },
        {
          "output_type": "stream",
          "name": "stderr",
          "text": [
            "/usr/local/lib/python3.8/dist-packages/lightgbm/engine.py:118: UserWarning: Found `num_iterations` in params. Will use it instead of argument\n",
            "  warnings.warn(\"Found `{}` in params. Will use it instead of argument\".format(alias))\n"
          ]
        },
        {
          "output_type": "stream",
          "name": "stdout",
          "text": [
            "Training until validation scores don't improve for 50 rounds.\n",
            "Early stopping, best iteration is:\n",
            "[21]\tvalid_0's auc: 0.793872\n",
            "0.9227226283737894    0.7938716906199933\n"
          ]
        }
      ]
    },
    {
      "cell_type": "code",
      "source": [
        "scores"
      ],
      "metadata": {
        "colab": {
          "base_uri": "https://localhost:8080/"
        },
        "id": "1t2tYDO0YVXs",
        "outputId": "c3e8ad6f-ac19-4cac-d0cf-c8cdea2fe4c3"
      },
      "execution_count": 18,
      "outputs": [
        {
          "output_type": "execute_result",
          "data": {
            "text/plain": [
              "[0.8170242930343621,\n",
              " 0.8589381941457739,\n",
              " 0.8072055420734804,\n",
              " 0.8254155873979034,\n",
              " 0.7938716906199933]"
            ]
          },
          "metadata": {},
          "execution_count": 18
        }
      ]
    },
    {
      "cell_type": "code",
      "source": [
        "test_pred = model.predict_proba(x_test)[:,1]\n",
        "submission = pd.DataFrame(test['id'])\n",
        "submission['Class'] = test_pred\n",
        "submission.to_csv('submission.csv', index=False)"
      ],
      "metadata": {
        "id": "Goqdps1gYWjJ"
      },
      "execution_count": 19,
      "outputs": []
    },
    {
      "cell_type": "code",
      "source": [
        "!kaggle competitions submit -c playground-series-s3e4 -f submission.csv -m '1'"
      ],
      "metadata": {
        "colab": {
          "base_uri": "https://localhost:8080/"
        },
        "id": "XwPVx0dFY_gY",
        "outputId": "72980f8e-35a4-4f74-86cf-67ec04730a41"
      },
      "execution_count": 20,
      "outputs": [
        {
          "output_type": "stream",
          "name": "stdout",
          "text": [
            "100% 4.00M/4.00M [00:00<00:00, 16.4MB/s]\n",
            "Successfully submitted to Playground Series Season 3, Episode 4"
          ]
        }
      ]
    },
    {
      "cell_type": "code",
      "source": [
        "from xgboost import XGBClassifier"
      ],
      "metadata": {
        "id": "yMD6PUl19M3_"
      },
      "execution_count": 21,
      "outputs": []
    },
    {
      "cell_type": "code",
      "source": [
        "XGB_pred = []\n",
        "XGB_val_pred = []\n",
        "\n",
        "xgb_params = {\n",
        "    'n_estimators':10000,\n",
        "    'max_depth':5,\n",
        "    'eval_metric':'auc',\n",
        "    'early_stopping_rounds': 100,    \n",
        "    'random_state':55,\n",
        "    'tree_method': 'gpu_hist'\n",
        "}\n",
        "\n",
        "for train_i, test_i in SKF.split(X, y):\n",
        "\n",
        "  X_train, X_test = X[train_i], X[test_i]\n",
        "  y_train, y_test = y[train_i], y[test_i]\n",
        "\n",
        "  model = XGBClassifier(**xgb_params)\n",
        "  model.fit(X_train,y_train,eval_set=[(X_test,y_test)],verbose=1000)\n",
        "  XGB_pred.append(model.predict_proba(X_test)[:,1])\n",
        "  XGB_val_pred.append(model.predict_proba(X)[:,1])\n",
        "  print(str(score(model,X_train, y_train)) + \"    \" + str(score(model,X_test, y_test)))\n",
        "  scores.append(score(model,X_test, y_test))"
      ],
      "metadata": {
        "id": "yTt95W1T9Qvd"
      },
      "execution_count": null,
      "outputs": []
    },
    {
      "cell_type": "code",
      "source": [
        "scores"
      ],
      "metadata": {
        "colab": {
          "base_uri": "https://localhost:8080/"
        },
        "id": "VaXE2E1e98wy",
        "outputId": "ea67d831-582e-43b0-b8de-178dc0ba0a71"
      },
      "execution_count": 23,
      "outputs": [
        {
          "output_type": "execute_result",
          "data": {
            "text/plain": [
              "[0.8170242930343621,\n",
              " 0.8589381941457739,\n",
              " 0.8072055420734804,\n",
              " 0.8254155873979034,\n",
              " 0.7938716906199933,\n",
              " 0.640183389737492,\n",
              " 0.5771695004972258,\n",
              " 0.5770455589266149,\n",
              " 0.640045825540867,\n",
              " 0.6784595370236505]"
            ]
          },
          "metadata": {},
          "execution_count": 23
        }
      ]
    },
    {
      "cell_type": "code",
      "source": [
        "test_pred = model.predict_proba(x_test)[:,1]\n",
        "submission = pd.DataFrame(test['id'])\n",
        "submission['Class'] = test_pred\n",
        "submission.to_csv('submission.csv', index=False)"
      ],
      "metadata": {
        "id": "oqDj5LA7_6ib"
      },
      "execution_count": 24,
      "outputs": []
    },
    {
      "cell_type": "code",
      "source": [
        "!kaggle competitions submit -c playground-series-s3e4 -f submission.csv -m '1'"
      ],
      "metadata": {
        "colab": {
          "base_uri": "https://localhost:8080/"
        },
        "id": "FwljbOma__Gu",
        "outputId": "c0a0a26a-39b2-4533-f0eb-f97b6a9f24db"
      },
      "execution_count": 25,
      "outputs": [
        {
          "output_type": "stream",
          "name": "stdout",
          "text": [
            "100% 2.65M/2.65M [00:00<00:00, 10.4MB/s]\n",
            "Successfully submitted to Playground Series Season 3, Episode 4"
          ]
        }
      ]
    }
  ]
}
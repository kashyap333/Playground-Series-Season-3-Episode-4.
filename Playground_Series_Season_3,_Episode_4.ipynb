{
  "nbformat": 4,
  "nbformat_minor": 0,
  "metadata": {
    "colab": {
      "provenance": [],
      "authorship_tag": "ABX9TyNUVmXemCYXycqKZNOY9dnT",
      "include_colab_link": true
    },
    "kernelspec": {
      "name": "python3",
      "display_name": "Python 3"
    },
    "language_info": {
      "name": "python"
    }
  },
  "cells": [
    {
      "cell_type": "markdown",
      "metadata": {
        "id": "view-in-github",
        "colab_type": "text"
      },
      "source": [
        "<a href=\"https://colab.research.google.com/github/kashyap333/Playground-Series-Season-3-Episode-4./blob/main/Playground_Series_Season_3%2C_Episode_4.ipynb\" target=\"_parent\"><img src=\"https://colab.research.google.com/assets/colab-badge.svg\" alt=\"Open In Colab\"/></a>"
      ]
    },
    {
      "cell_type": "code",
      "execution_count": null,
      "metadata": {
        "id": "eXE63rJtmHSX"
      },
      "outputs": [],
      "source": [
        "!pip install kaggle\n",
        "!mkdir ~/.kaggle\n",
        "!cp kaggle.json ~/.kaggle/kaggle.json\n",
        "!chmod 600 /root/.kaggle/kaggle.json"
      ]
    },
    {
      "cell_type": "code",
      "source": [
        "!kaggle competitions download -c playground-series-s3e4\n",
        "!unzip playground-series-s3e4"
      ],
      "metadata": {
        "id": "BOgNtZdwmqfc"
      },
      "execution_count": null,
      "outputs": []
    },
    {
      "cell_type": "code",
      "source": [
        "import pandas as pd\n",
        "import numpy as np\n",
        "import matplotlib.pyplot as plt\n",
        "from sklearn.preprocessing import StandardScaler\n",
        "from sklearn.pipeline import make_pipeline\n",
        "from sklearn.model_selection import train_test_split\n",
        "import seaborn as sns\n",
        "from imblearn.over_sampling import SMOTE"
      ],
      "metadata": {
        "id": "HRvOJiXgmxsk"
      },
      "execution_count": 99,
      "outputs": []
    },
    {
      "cell_type": "code",
      "source": [
        "train = pd.read_csv('train.csv')\n",
        "test = pd.read_csv('test.csv')"
      ],
      "metadata": {
        "id": "uAcBHkfWm2R9"
      },
      "execution_count": 130,
      "outputs": []
    },
    {
      "cell_type": "code",
      "source": [
        "train.head()"
      ],
      "metadata": {
        "id": "LKJDqswZm91O"
      },
      "execution_count": null,
      "outputs": []
    },
    {
      "cell_type": "code",
      "source": [
        "train.describe()"
      ],
      "metadata": {
        "id": "fEu4MTZIm_vy"
      },
      "execution_count": null,
      "outputs": []
    },
    {
      "cell_type": "code",
      "source": [
        "train.isna().values.any()"
      ],
      "metadata": {
        "id": "tRi7tGbFAW_6"
      },
      "execution_count": null,
      "outputs": []
    },
    {
      "cell_type": "code",
      "source": [
        "train.Class.unique()"
      ],
      "metadata": {
        "id": "BuLHqapanI_J"
      },
      "execution_count": null,
      "outputs": []
    },
    {
      "cell_type": "code",
      "source": [
        "sns.countplot(x='Class', data=train)"
      ],
      "metadata": {
        "id": "3kYKAvi5_Epp"
      },
      "execution_count": null,
      "outputs": []
    },
    {
      "cell_type": "code",
      "source": [
        "train.drop(['id', 'Time'], axis=1, inplace = True)\n",
        "test.drop(['id', 'Time'], axis=1, inplace = True)"
      ],
      "metadata": {
        "id": "bmaMVkKG9GYZ"
      },
      "execution_count": 131,
      "outputs": []
    },
    {
      "cell_type": "code",
      "source": [
        "X, y = train_test_split(train, test_size=0.2, random_state=42,  stratify=train.Class)"
      ],
      "metadata": {
        "id": "fMgfrJ5a-f--"
      },
      "execution_count": 133,
      "outputs": []
    },
    {
      "cell_type": "code",
      "source": [
        "X.Class.value_counts(), y.Class.value_counts()"
      ],
      "metadata": {
        "id": "uawr1MHR92j7"
      },
      "execution_count": null,
      "outputs": []
    },
    {
      "cell_type": "code",
      "source": [
        "SL = StandardScaler()"
      ],
      "metadata": {
        "id": "_djX4TyX625b"
      },
      "execution_count": 123,
      "outputs": []
    },
    {
      "cell_type": "code",
      "source": [
        "X_train = X.drop('Class', axis=1)\n",
        "X_test = y.drop('Class', axis=1)\n",
        "y_train = X['Class']\n",
        "y_test = y['Class']\n",
        "\n",
        "X_train[X_train.columns] = SL.fit_transform(X_train[X_train.columns])\n",
        "X_test[X_test.columns] = SL.fit_transform(X_test[X_test.columns])"
      ],
      "metadata": {
        "id": "If916ePd9tKi"
      },
      "execution_count": 135,
      "outputs": []
    },
    {
      "cell_type": "code",
      "source": [
        "'''sm = SMOTE(random_state=42)\n",
        "X_train, y_train = sm.fit_resample(X_train, y_train)\n",
        "X_test, y_test = sm.fit_resample(X_test, y_test)\n",
        "sns.countplot('Class', data=pd.DataFrame(y_train))'''"
      ],
      "metadata": {
        "id": "pRPee3xbs8zA"
      },
      "execution_count": 101,
      "outputs": []
    },
    {
      "cell_type": "code",
      "source": [
        "plt.figure(figsize=(15,30))\n",
        "for i in enumerate(train.drop(['id', 'Time', 'Class'], axis=1).columns):\n",
        "  plt.subplot(6, 5, i[0]+1)\n",
        "  sns.histplot(data=train, x=i[1], hue='Class')\n"
      ],
      "metadata": {
        "id": "aRUsNL1Y-hPf"
      },
      "execution_count": null,
      "outputs": []
    },
    {
      "cell_type": "code",
      "source": [
        "from xgboost import XGBClassifier\n",
        "from sklearn.metrics import confusion_matrix\n",
        "from sklearn.model_selection import cross_val_score, KFold"
      ],
      "metadata": {
        "id": "foJA6yEUAy00"
      },
      "execution_count": 137,
      "outputs": []
    },
    {
      "cell_type": "code",
      "source": [
        "xgb_params = {'n_estimators'     : 2000,\n",
        "              'min_child_weight' : 96,\n",
        "              'max_depth'        : 7,\n",
        "              'learning_rate'    : 0.18,\n",
        "              'subsample'        : 0.95,\n",
        "              'colsample_bytree' : 0.95,\n",
        "              'reg_lambda'       : 1.50,\n",
        "              'reg_alpha'        : 1.50,\n",
        "              'gamma'            : 1.50,\n",
        "              'max_bin'          : 512,\n",
        "              'random_state'     : 42,\n",
        "              'objective'        : 'binary:logistic',\n",
        "              'tree_method'      : 'hist',\n",
        "              'eval_metric'      : 'rmse',\n",
        "             }"
      ],
      "metadata": {
        "id": "bNctez8yTDuP"
      },
      "execution_count": 138,
      "outputs": []
    },
    {
      "cell_type": "code",
      "source": [
        "xgbc = XGBClassifier(**xgb_params)\n",
        "xgbc.fit(X_train, y_train)\n",
        "kfold = KFold(n_splits=10, shuffle=True)\n",
        "kf_cv_scores = cross_val_score(xgbc, X_train, y_train, cv=kfold)\n",
        "print(\"K-fold CV average score: %.2f\" % kf_cv_scores.mean())"
      ],
      "metadata": {
        "id": "HcmHZzppOKiN"
      },
      "execution_count": null,
      "outputs": []
    },
    {
      "cell_type": "code",
      "source": [
        "kfold = KFold(n_splits=10, shuffle=True)\n",
        "kf_cv_scores = cross_val_score(xgbc, X_test, y_test, cv=kfold)\n",
        "print(\"K-fold CV average score: %.2f\" % kf_cv_scores.mean())"
      ],
      "metadata": {
        "id": "Gq-KKvtpO8W5"
      },
      "execution_count": null,
      "outputs": []
    },
    {
      "cell_type": "code",
      "source": [
        "test.drop(['id', 'Time'], axis=1, inplace = True)\n",
        "test_pred = xgbc.predict_proba(test)"
      ],
      "metadata": {
        "id": "0HblY9c5Q8xU"
      },
      "execution_count": null,
      "outputs": []
    },
    {
      "cell_type": "code",
      "source": [
        "test = pd.read_csv('test.csv')\n",
        "submission = pd.DataFrame(test['id'])\n",
        "submission['Class'] = test_pred[:, 1]\n",
        "submission.to_csv('submission.csv', index=False)\n"
      ],
      "metadata": {
        "id": "Z96qMs-1Qejg"
      },
      "execution_count": null,
      "outputs": []
    },
    {
      "cell_type": "code",
      "source": [
        "\n",
        "!kaggle competitions submit -c playground-series-s3e4 -f submission.csv -m '1'"
      ],
      "metadata": {
        "id": "bm3B8IiWSCsC"
      },
      "execution_count": null,
      "outputs": []
    }
  ]
}